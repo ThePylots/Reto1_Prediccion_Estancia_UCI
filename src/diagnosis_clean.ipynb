{
 "cells": [
  {
   "cell_type": "code",
   "execution_count": 18,
   "id": "44b73433-b662-4675-a0a6-cbbe0f128b5a",
   "metadata": {
    "tags": []
   },
   "outputs": [],
   "source": [
    "import sqlite3 as db\n",
    "import pandas as pd\n",
    "import featuretools as ft\n",
    "import json"
   ]
  },
  {
   "cell_type": "code",
   "execution_count": 19,
   "id": "073e87fe-8ea6-4c36-8d20-ba148a77097b",
   "metadata": {},
   "outputs": [
    {
     "name": "stderr",
     "output_type": "stream",
     "text": [
      "/tmp/ipykernel_23210/2990043772.py:21: DtypeWarning: Columns (11) have mixed types. Specify dtype option on import or set low_memory=False.\n",
      "  dfs[ds_name] = pd.read_csv('../db/csv/' + ds_name + '.csv')\n"
     ]
    }
   ],
   "source": [
    "# Hacer una query SQL\n",
    "def sql_query(q):\n",
    "    conn = db.connect('../db/sqlite/eicu_v2_0_1.sqlite3')\n",
    "    df = pd.read_sql_query(q, conn)\n",
    "    conn.close()\n",
    "    \n",
    "    return df\n",
    "\n",
    "# Leer todos los CSV\n",
    "def read_csvs():\n",
    "    #import os\n",
    "    #print( os.getcwd())\n",
    "    datasets = [ 'admissiondrug', 'admissionDx', 'allergy', 'apacheApsVar', 'apachePatientResult', 'apachePredVar', 'carePlanCareProvider', 'carePlanEOL', 'carePlanGeneral',\n",
    "                 'carePlanGoal', 'carePlanInfectiousDisease', 'customLab', 'diagnosis', 'hospital', 'infusiondrug', 'intakeOutput', 'lab', 'medication', 'microLab', 'note',\n",
    "                 'nurseAssessment', 'nurseCare', 'nurseCharting', 'pastHistory', 'patient', 'physicalExam', 'respiratoryCare', 'respiratoryCharting', 'treatment', 'vitalAperiodic',\n",
    "                 'vitalPeriodic']\n",
    "\n",
    "    dfs = {}\n",
    "\n",
    "    for ds_name in datasets:\n",
    "        dfs[ds_name] = pd.read_csv('../db/csv/' + ds_name + '.csv')\n",
    "    \n",
    "    return dfs\n",
    "\n",
    "dfs = read_csvs()\n",
    "has_dropped_keys = False # Para que no se droppeen cada vez que se ejecuta la celda siguiente"
   ]
  },
  {
   "cell_type": "code",
   "execution_count": 20,
   "id": "e11062bc-757e-4f63-9651-5a2935d3615b",
   "metadata": {
    "tags": []
   },
   "outputs": [],
   "source": [
    "# Dropear IDs de todas las tablas (primera columna)\n",
    "def drop_keys(dfs):\n",
    "    for df_key in dfs.keys():\n",
    "        if df_key not in ('hospital', 'patient'): # No dropear hospitalId o patientUnitStayId\n",
    "            df = dfs[df_key]\n",
    "            dfs[df_key] = df.drop(columns=[df.columns.values[0]])\n",
    "\n",
    "if not has_dropped_keys:\n",
    "    drop_keys(dfs)\n",
    "    has_dropped_keys = True"
   ]
  },
  {
   "cell_type": "code",
   "execution_count": 21,
   "id": "36588e75-c0f1-4344-a872-9d311fc27ed4",
   "metadata": {
    "tags": []
   },
   "outputs": [],
   "source": [
    "# Eliminar filas duplicadas\n",
    "dfs['diagnosis'] = dfs['diagnosis'].drop_duplicates()"
   ]
  },
  {
   "cell_type": "code",
   "execution_count": 30,
   "id": "5a5794f3-3906-4600-9dc4-6fb5b9e6594c",
   "metadata": {
    "tags": []
   },
   "outputs": [
    {
     "name": "stdout",
     "output_type": "stream",
     "text": [
      "admissiondrug\n"
     ]
    },
    {
     "data": {
      "text/plain": [
       "False    7417\n",
       "dtype: int64"
      ]
     },
     "metadata": {},
     "output_type": "display_data"
    },
    {
     "name": "stdout",
     "output_type": "stream",
     "text": [
      "\n",
      "admissionDx\n"
     ]
    },
    {
     "data": {
      "text/plain": [
       "False    7578\n",
       "dtype: int64"
      ]
     },
     "metadata": {},
     "output_type": "display_data"
    },
    {
     "name": "stdout",
     "output_type": "stream",
     "text": [
      "\n",
      "allergy\n"
     ]
    },
    {
     "data": {
      "text/plain": [
       "False    2475\n",
       "dtype: int64"
      ]
     },
     "metadata": {},
     "output_type": "display_data"
    },
    {
     "name": "stdout",
     "output_type": "stream",
     "text": [
      "\n",
      "apacheApsVar\n"
     ]
    },
    {
     "data": {
      "text/plain": [
       "False    2205\n",
       "dtype: int64"
      ]
     },
     "metadata": {},
     "output_type": "display_data"
    },
    {
     "name": "stdout",
     "output_type": "stream",
     "text": [
      "\n",
      "apachePatientResult\n"
     ]
    },
    {
     "data": {
      "text/plain": [
       "False    3676\n",
       "dtype: int64"
      ]
     },
     "metadata": {},
     "output_type": "display_data"
    },
    {
     "name": "stdout",
     "output_type": "stream",
     "text": [
      "\n",
      "apachePredVar\n"
     ]
    },
    {
     "data": {
      "text/plain": [
       "False    2205\n",
       "dtype: int64"
      ]
     },
     "metadata": {},
     "output_type": "display_data"
    },
    {
     "name": "stdout",
     "output_type": "stream",
     "text": [
      "\n",
      "carePlanCareProvider\n"
     ]
    },
    {
     "data": {
      "text/plain": [
       "False    5496\n",
       "True      131\n",
       "dtype: int64"
      ]
     },
     "metadata": {},
     "output_type": "display_data"
    },
    {
     "name": "stdout",
     "output_type": "stream",
     "text": [
      "\n",
      "carePlanEOL\n"
     ]
    },
    {
     "data": {
      "text/plain": [
       "False    15\n",
       "dtype: int64"
      ]
     },
     "metadata": {},
     "output_type": "display_data"
    },
    {
     "name": "stdout",
     "output_type": "stream",
     "text": [
      "\n",
      "carePlanGeneral\n"
     ]
    },
    {
     "data": {
      "text/plain": [
       "False    33049\n",
       "True        99\n",
       "dtype: int64"
      ]
     },
     "metadata": {},
     "output_type": "display_data"
    },
    {
     "name": "stdout",
     "output_type": "stream",
     "text": [
      "\n",
      "carePlanGoal\n"
     ]
    },
    {
     "data": {
      "text/plain": [
       "False    2847\n",
       "True      786\n",
       "dtype: int64"
      ]
     },
     "metadata": {},
     "output_type": "display_data"
    },
    {
     "name": "stdout",
     "output_type": "stream",
     "text": [
      "\n",
      "carePlanInfectiousDisease\n"
     ]
    },
    {
     "data": {
      "text/plain": [
       "False    112\n",
       "dtype: int64"
      ]
     },
     "metadata": {},
     "output_type": "display_data"
    },
    {
     "name": "stdout",
     "output_type": "stream",
     "text": [
      "\n",
      "customLab\n"
     ]
    },
    {
     "data": {
      "text/plain": [
       "False    30\n",
       "dtype: int64"
      ]
     },
     "metadata": {},
     "output_type": "display_data"
    },
    {
     "name": "stdout",
     "output_type": "stream",
     "text": [
      "\n",
      "diagnosis\n"
     ]
    },
    {
     "data": {
      "text/plain": [
       "False    24748\n",
       "True       230\n",
       "dtype: int64"
      ]
     },
     "metadata": {},
     "output_type": "display_data"
    },
    {
     "name": "stdout",
     "output_type": "stream",
     "text": [
      "\n",
      "hospital\n"
     ]
    },
    {
     "data": {
      "text/plain": [
       "False    186\n",
       "dtype: int64"
      ]
     },
     "metadata": {},
     "output_type": "display_data"
    },
    {
     "name": "stdout",
     "output_type": "stream",
     "text": [
      "\n",
      "infusiondrug\n"
     ]
    },
    {
     "data": {
      "text/plain": [
       "False    38191\n",
       "True        65\n",
       "dtype: int64"
      ]
     },
     "metadata": {},
     "output_type": "display_data"
    },
    {
     "name": "stdout",
     "output_type": "stream",
     "text": [
      "\n",
      "intakeOutput\n"
     ]
    },
    {
     "data": {
      "text/plain": [
       "False    100464\n",
       "True          2\n",
       "dtype: int64"
      ]
     },
     "metadata": {},
     "output_type": "display_data"
    },
    {
     "name": "stdout",
     "output_type": "stream",
     "text": [
      "\n",
      "lab\n"
     ]
    },
    {
     "data": {
      "text/plain": [
       "False    434341\n",
       "True        319\n",
       "dtype: int64"
      ]
     },
     "metadata": {},
     "output_type": "display_data"
    },
    {
     "name": "stdout",
     "output_type": "stream",
     "text": [
      "\n",
      "medication\n"
     ]
    },
    {
     "data": {
      "text/plain": [
       "False    74723\n",
       "True       881\n",
       "dtype: int64"
      ]
     },
     "metadata": {},
     "output_type": "display_data"
    },
    {
     "name": "stdout",
     "output_type": "stream",
     "text": [
      "\n",
      "microLab\n"
     ]
    },
    {
     "data": {
      "text/plain": [
       "False    313\n",
       "True      29\n",
       "dtype: int64"
      ]
     },
     "metadata": {},
     "output_type": "display_data"
    },
    {
     "name": "stdout",
     "output_type": "stream",
     "text": [
      "\n",
      "note\n"
     ]
    },
    {
     "data": {
      "text/plain": [
       "False    24758\n",
       "dtype: int64"
      ]
     },
     "metadata": {},
     "output_type": "display_data"
    },
    {
     "name": "stdout",
     "output_type": "stream",
     "text": [
      "\n",
      "nurseAssessment\n"
     ]
    },
    {
     "data": {
      "text/plain": [
       "False    91589\n",
       "dtype: int64"
      ]
     },
     "metadata": {},
     "output_type": "display_data"
    },
    {
     "name": "stdout",
     "output_type": "stream",
     "text": [
      "\n",
      "nurseCare\n"
     ]
    },
    {
     "data": {
      "text/plain": [
       "False    42080\n",
       "dtype: int64"
      ]
     },
     "metadata": {},
     "output_type": "display_data"
    },
    {
     "name": "stdout",
     "output_type": "stream",
     "text": [
      "\n",
      "nurseCharting\n"
     ]
    },
    {
     "data": {
      "text/plain": [
       "False    1477163\n",
       "dtype: int64"
      ]
     },
     "metadata": {},
     "output_type": "display_data"
    },
    {
     "name": "stdout",
     "output_type": "stream",
     "text": [
      "\n",
      "pastHistory\n"
     ]
    },
    {
     "data": {
      "text/plain": [
       "False    12109\n",
       "dtype: int64"
      ]
     },
     "metadata": {},
     "output_type": "display_data"
    },
    {
     "name": "stdout",
     "output_type": "stream",
     "text": [
      "\n",
      "patient\n"
     ]
    },
    {
     "data": {
      "text/plain": [
       "False    2520\n",
       "dtype: int64"
      ]
     },
     "metadata": {},
     "output_type": "display_data"
    },
    {
     "name": "stdout",
     "output_type": "stream",
     "text": [
      "\n",
      "physicalExam\n"
     ]
    },
    {
     "data": {
      "text/plain": [
       "False    83992\n",
       "True        66\n",
       "dtype: int64"
      ]
     },
     "metadata": {},
     "output_type": "display_data"
    },
    {
     "name": "stdout",
     "output_type": "stream",
     "text": [
      "\n",
      "respiratoryCare\n"
     ]
    },
    {
     "data": {
      "text/plain": [
       "False    5436\n",
       "dtype: int64"
      ]
     },
     "metadata": {},
     "output_type": "display_data"
    },
    {
     "name": "stdout",
     "output_type": "stream",
     "text": [
      "\n",
      "respiratoryCharting\n"
     ]
    },
    {
     "data": {
      "text/plain": [
       "False    176089\n",
       "dtype: int64"
      ]
     },
     "metadata": {},
     "output_type": "display_data"
    },
    {
     "name": "stdout",
     "output_type": "stream",
     "text": [
      "\n",
      "treatment\n"
     ]
    },
    {
     "data": {
      "text/plain": [
       "False    37829\n",
       "True       461\n",
       "dtype: int64"
      ]
     },
     "metadata": {},
     "output_type": "display_data"
    },
    {
     "name": "stdout",
     "output_type": "stream",
     "text": [
      "\n",
      "vitalAperiodic\n"
     ]
    },
    {
     "data": {
      "text/plain": [
       "False    273767\n",
       "True        321\n",
       "dtype: int64"
      ]
     },
     "metadata": {},
     "output_type": "display_data"
    },
    {
     "name": "stdout",
     "output_type": "stream",
     "text": [
      "\n",
      "vitalPeriodic\n"
     ]
    },
    {
     "data": {
      "text/plain": [
       "False    1634960\n",
       "dtype: int64"
      ]
     },
     "metadata": {},
     "output_type": "display_data"
    },
    {
     "name": "stdout",
     "output_type": "stream",
     "text": [
      "\n"
     ]
    }
   ],
   "source": [
    "for df_name in dfs:\n",
    "    print(df_name)\n",
    "    display(dfs[df_name].duplicated().value_counts())\n",
    "    print()"
   ]
  }
 ],
 "metadata": {
  "kernelspec": {
   "display_name": "Python 3 (ipykernel)",
   "language": "python",
   "name": "python3"
  },
  "language_info": {
   "codemirror_mode": {
    "name": "ipython",
    "version": 3
   },
   "file_extension": ".py",
   "mimetype": "text/x-python",
   "name": "python",
   "nbconvert_exporter": "python",
   "pygments_lexer": "ipython3",
   "version": "3.8.16"
  }
 },
 "nbformat": 4,
 "nbformat_minor": 5
}
