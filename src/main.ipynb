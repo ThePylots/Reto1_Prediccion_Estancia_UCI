{
 "cells": [
  {
   "cell_type": "code",
   "execution_count": 1,
   "id": "d5308a6f-a6d1-46b1-9e13-92eeb3febf81",
   "metadata": {},
   "outputs": [],
   "source": [
    "import sqlite3 as db\n",
    "import pandas as pd\n",
    "import featuretools as ft\n",
    "import json"
   ]
  },
  {
   "cell_type": "code",
   "execution_count": 20,
   "id": "647c573a-5a64-44b1-b78f-4640e98cf1a0",
   "metadata": {
    "tags": []
   },
   "outputs": [
    {
     "name": "stderr",
     "output_type": "stream",
     "text": [
      "/tmp/ipykernel_21765/385061124.py:15: DtypeWarning: Columns (11) have mixed types. Specify dtype option on import or set low_memory=False.\n",
      "  dfs[ds_name.lower()] = (pd.read_csv('../db/csv/' + ds_name + '.csv'), )\n"
     ]
    }
   ],
   "source": [
    "#\n",
    "# medication: Columns (11) have mixed types. Specify dtype option on import or set low_memory=False-\n",
    "#\n",
    "def read_csvs():\n",
    "    datasets = [ 'admissiondrug', 'admissionDx', 'allergy', 'apacheApsVar', 'apachePatientResult', 'apachePredVar', 'carePlanCareProvider', 'carePlanEOL', 'carePlanGeneral',\n",
    "                 'carePlanGoal', 'carePlanInfectiousDisease', 'customLab', 'diagnosis', 'hospital', 'infusiondrug', 'intakeOutput', 'lab',\n",
    "                 'medication',\n",
    "                 'microLab', 'note',\n",
    "                 'nurseAssessment', 'nurseCare', 'nurseCharting', 'pastHistory', 'patient', 'physicalExam', 'respiratoryCare', 'respiratoryCharting', 'treatment', 'vitalAperiodic',\n",
    "                 'vitalPeriodic']\n",
    "\n",
    "    dfs = {}\n",
    "\n",
    "    for ds_name in datasets:\n",
    "        dfs[ds_name.lower()] = (pd.read_csv('../db/csv/' + ds_name + '.csv'), )\n",
    "    \n",
    "    return dfs\n",
    "\n",
    "def read_query(q):\n",
    "    conn = db.connect('../db/sqlite/eicu_v2_0_1.sqlite3')\n",
    "    df = pd.read_sql_query(q, conn)\n",
    "    conn.close()\n",
    "    \n",
    "    return df\n",
    "\n",
    "def make_relationships(dfs):\n",
    "    relationships = []\n",
    "    pk_fk = json.loads( open('keys.json').read() )\n",
    "    i = 0\n",
    "\n",
    "    for ds_name in pk_fk:\n",
    "        #if pk_fk[ds_name]['pk'] != False:\n",
    "        #    dfs[ds_name][0].set_index(pk_fk[ds_name]['pk'])\n",
    "        \n",
    "        if pk_fk[ds_name]['fk'] != False and ds_name not in ('hospital', 'medication'):\n",
    "            #print(ds_name, pk[ds_name]['fk'])\n",
    "            fk_atr, target_table, target_atr = pk_fk[ds_name]['fk']\n",
    "            \n",
    "            #print((target_table, target_atr, ds_name, fk_atr))\n",
    "            relationships.append((target_table, target_atr, ds_name, fk_atr))\n",
    "            \n",
    "    relationships.append(('hospital', 'hospitalid', 'patient', 'hospitalid'))\n",
    "\n",
    "    return relationships\n",
    "\n",
    "#------------------------------------------------------------------------------------------------------\n",
    "\n",
    "dfs = read_csvs()\n",
    "relationships = make_relationships(dfs)\n",
    "\n",
    "#feature_matrix, feature_defs = ft.dfs(\n",
    "#    dataframes=dfs,\n",
    "#    relationships=relationships,\n",
    "#    target_dataframe_name='patient',\n",
    "#)\n",
    "\n",
    "#dfs['patient'][0]"
   ]
  },
  {
   "cell_type": "code",
   "execution_count": null,
   "id": "6bf2bf1f-5a80-4159-b4a0-056e1ae4f021",
   "metadata": {
    "tags": []
   },
   "outputs": [],
   "source": [
    "#read_query(\"\"\"\n",
    "#SELECT * FROM patient\n",
    "#\"\"\")"
   ]
  },
  {
   "cell_type": "code",
   "execution_count": null,
   "id": "ea5b7534-5866-4922-8a57-7b754ff39ebb",
   "metadata": {
    "tags": []
   },
   "outputs": [],
   "source": [
    "#read_query(\"\"\"\n",
    "#SELECT * FROM apacheApsVar INNER JOIN apachePatientResult ON (apacheApsVar.patientUnitStayID = apachePatientResult.patientUnitStayID)\n",
    "#                           INNER JOIN apachePredVar ON (apacheApsVar.patientUnitStayID = apachePredVar.patientUnitStayID)\n",
    "#\"\"\")"
   ]
  },
  {
   "cell_type": "code",
   "execution_count": null,
   "id": "d5dfcfcd-d7bb-43ac-9a64-38cc3f7f1743",
   "metadata": {
    "tags": []
   },
   "outputs": [],
   "source": [
    "#df[ df['unitdischargestatus'] == df['uniquepid'][0] ]\n",
    "#len(patient_df[ patient_df['unitdischargestatus'] == 'Alive' ]) # 2392 alive, 126 dead, 2 NULL"
   ]
  }
 ],
 "metadata": {
  "kernelspec": {
   "display_name": "Python 3 (ipykernel)",
   "language": "python",
   "name": "python3"
  },
  "language_info": {
   "codemirror_mode": {
    "name": "ipython",
    "version": 3
   },
   "file_extension": ".py",
   "mimetype": "text/x-python",
   "name": "python",
   "nbconvert_exporter": "python",
   "pygments_lexer": "ipython3",
   "version": "3.8.16"
  }
 },
 "nbformat": 4,
 "nbformat_minor": 5
}
