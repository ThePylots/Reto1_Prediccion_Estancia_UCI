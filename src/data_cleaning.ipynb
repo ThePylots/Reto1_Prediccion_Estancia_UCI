{
 "cells": [
  {
   "cell_type": "code",
   "execution_count": 148,
   "id": "24a9d267-4bb9-424b-90dd-81d4e7f3d891",
   "metadata": {},
   "outputs": [],
   "source": [
    "import sqlite3 as db\n",
    "import pandas as pd\n",
    "#import featuretools as ft\n",
    "import json\n",
    "import random"
   ]
  },
  {
   "cell_type": "markdown",
   "id": "3c4bb256-f546-49be-b61e-394658a85d6f",
   "metadata": {},
   "source": [
    "<center><h2><b>Leer DB</b></h2></center>"
   ]
  },
  {
   "cell_type": "code",
   "execution_count": 149,
   "id": "a9336aab-0f10-46c0-b174-1b30352524b5",
   "metadata": {
    "tags": []
   },
   "outputs": [
    {
     "name": "stderr",
     "output_type": "stream",
     "text": [
      "/tmp/ipykernel_33348/759616273.py:21: DtypeWarning: Columns (11) have mixed types. Specify dtype option on import or set low_memory=False.\n",
      "  dfs[ds_name] = pd.read_csv('../db/csv/' + ds_name + '.csv')\n"
     ]
    }
   ],
   "source": [
    "# Hacer una query SQL\n",
    "def sql_query(q):\n",
    "    conn = db.connect('../db/sqlite/eicu_v2_0_1.sqlite3/eicu_v2_0_1.sqlite3')\n",
    "    df = pd.read_sql_query(q, conn)\n",
    "    conn.close()\n",
    "    \n",
    "    return df\n",
    "\n",
    "# Leer todos los CSV\n",
    "def read_csvs():\n",
    "    #import os\n",
    "    #print( os.getcwd())\n",
    "    datasets = [ 'admissiondrug', 'admissionDx', 'allergy', 'apacheApsVar', 'apachePatientResult', 'apachePredVar', 'carePlanCareProvider', 'carePlanEOL', 'carePlanGeneral',\n",
    "                 'carePlanGoal', 'carePlanInfectiousDisease', 'customLab', 'diagnosis', 'hospital', 'infusiondrug', 'intakeOutput', 'lab', 'medication', 'microLab', 'note',\n",
    "                 'nurseAssessment', 'nurseCare', 'nurseCharting', 'pastHistory', 'patient', 'physicalExam', 'respiratoryCare', 'respiratoryCharting', 'treatment', 'vitalAperiodic',\n",
    "                 'vitalPeriodic']\n",
    "\n",
    "    dfs = {}\n",
    "\n",
    "    for ds_name in datasets:\n",
    "        dfs[ds_name] = pd.read_csv('../db/csv/' + ds_name + '.csv')\n",
    "    \n",
    "    return dfs\n",
    "\n",
    "dfs = read_csvs()\n",
    "has_dropped_keys = False # Para que no se droppeen cada vez que se ejecuta la celda siguiente"
   ]
  },
  {
   "cell_type": "code",
   "execution_count": 150,
   "id": "0c77a8cf-b3e3-4d47-b5df-5b63d47037a3",
   "metadata": {},
   "outputs": [],
   "source": [
    "# Dropear IDs de todas las tablas (primera columna)\n",
    "def drop_keys(dfs):\n",
    "    for df_key in dfs.keys():\n",
    "        if df_key not in ('hospital', 'patient'): # No dropear hospitalId o patientUnitStayId\n",
    "            df = dfs[df_key]\n",
    "            dfs[df_key] = df.drop(columns=[df.columns.values[0]])\n",
    "\n",
    "if not has_dropped_keys:\n",
    "    drop_keys(dfs)\n",
    "    has_dropped_keys = True"
   ]
  },
  {
   "cell_type": "code",
   "execution_count": 151,
   "id": "684e93d4-866d-4239-913f-9cb516e092e2",
   "metadata": {
    "tags": []
   },
   "outputs": [],
   "source": [
    "# Eliminar filas duplicadas\n",
    "for df_name in dfs:\n",
    "    dfs[df_name] = dfs[df_name].drop_duplicates()"
   ]
  },
  {
   "cell_type": "markdown",
   "id": "059c4b7b-6a89-415d-8140-acf95cb3bb9a",
   "metadata": {
    "tags": []
   },
   "source": [
    "<center><h2><b>admissionDx</b></h2></center>"
   ]
  },
  {
   "cell_type": "code",
   "execution_count": 152,
   "id": "556f3be3-bd66-48ba-a24b-dd4388adf719",
   "metadata": {
    "tags": []
   },
   "outputs": [
    {
     "data": {
      "text/html": [
       "<div>\n",
       "<style scoped>\n",
       "    .dataframe tbody tr th:only-of-type {\n",
       "        vertical-align: middle;\n",
       "    }\n",
       "\n",
       "    .dataframe tbody tr th {\n",
       "        vertical-align: top;\n",
       "    }\n",
       "\n",
       "    .dataframe thead th {\n",
       "        text-align: right;\n",
       "    }\n",
       "</style>\n",
       "<table border=\"1\" class=\"dataframe\">\n",
       "  <thead>\n",
       "    <tr style=\"text-align: right;\">\n",
       "      <th></th>\n",
       "      <th>patientunitstayid</th>\n",
       "      <th>admitdxenteredoffset</th>\n",
       "      <th>admitdxpath</th>\n",
       "      <th>admitdxname</th>\n",
       "      <th>admitdxtext</th>\n",
       "    </tr>\n",
       "  </thead>\n",
       "  <tbody>\n",
       "    <tr>\n",
       "      <th>0</th>\n",
       "      <td>2900423</td>\n",
       "      <td>162</td>\n",
       "      <td>admission diagnosis|Non-operative Organ Systems|Organ System|Cardiovascular</td>\n",
       "      <td>Cardiovascular</td>\n",
       "      <td>Cardiovascular</td>\n",
       "    </tr>\n",
       "    <tr>\n",
       "      <th>1</th>\n",
       "      <td>2900423</td>\n",
       "      <td>162</td>\n",
       "      <td>admission diagnosis|Was the patient admitted from the O.R. or went to the O.R. within 4 hours of admission?|No</td>\n",
       "      <td>No</td>\n",
       "      <td>No</td>\n",
       "    </tr>\n",
       "    <tr>\n",
       "      <th>2</th>\n",
       "      <td>2900423</td>\n",
       "      <td>162</td>\n",
       "      <td>admission diagnosis|All Diagnosis|Non-operative|Diagnosis|Cardiovascular|Sepsis, pulmonary</td>\n",
       "      <td>Sepsis, pulmonary</td>\n",
       "      <td>Sepsis, pulmonary</td>\n",
       "    </tr>\n",
       "    <tr>\n",
       "      <th>3</th>\n",
       "      <td>2902156</td>\n",
       "      <td>944</td>\n",
       "      <td>admission diagnosis|All Diagnosis|Non-operative|Diagnosis|Cardiovascular|Rhythm disturbance (atrial, supraventricular)</td>\n",
       "      <td>Rhythm disturbance (atrial, supraventricular)</td>\n",
       "      <td>Rhythm disturbance (atrial, supraventricular)</td>\n",
       "    </tr>\n",
       "    <tr>\n",
       "      <th>4</th>\n",
       "      <td>2902156</td>\n",
       "      <td>944</td>\n",
       "      <td>admission diagnosis|Non-operative Organ Systems|Organ System|Cardiovascular</td>\n",
       "      <td>Cardiovascular</td>\n",
       "      <td>Cardiovascular</td>\n",
       "    </tr>\n",
       "    <tr>\n",
       "      <th>...</th>\n",
       "      <td>...</td>\n",
       "      <td>...</td>\n",
       "      <td>...</td>\n",
       "      <td>...</td>\n",
       "      <td>...</td>\n",
       "    </tr>\n",
       "    <tr>\n",
       "      <th>7573</th>\n",
       "      <td>2898513</td>\n",
       "      <td>50</td>\n",
       "      <td>admission diagnosis|All Diagnosis|Non-operative|Diagnosis|Gastrointestinal|Encephalopathy, hepatic</td>\n",
       "      <td>Encephalopathy, hepatic</td>\n",
       "      <td>Encephalopathy, hepatic</td>\n",
       "    </tr>\n",
       "    <tr>\n",
       "      <th>7574</th>\n",
       "      <td>2899929</td>\n",
       "      <td>11</td>\n",
       "      <td>admission diagnosis|Was the patient admitted from the O.R. or went to the O.R. within 4 hours of admission?|Yes</td>\n",
       "      <td>Yes</td>\n",
       "      <td>Yes</td>\n",
       "    </tr>\n",
       "    <tr>\n",
       "      <th>7575</th>\n",
       "      <td>2899929</td>\n",
       "      <td>11</td>\n",
       "      <td>admission diagnosis|Elective|Yes</td>\n",
       "      <td>Yes</td>\n",
       "      <td>Yes</td>\n",
       "    </tr>\n",
       "    <tr>\n",
       "      <th>7576</th>\n",
       "      <td>2899929</td>\n",
       "      <td>11</td>\n",
       "      <td>admission diagnosis|All Diagnosis|Operative|Diagnosis|Genitourinary|TURP, transurethral prostate resection for benign prostatic hypertrophy</td>\n",
       "      <td>TURP, transurethral prostate resection for benign prostatic hypertrophy</td>\n",
       "      <td>TURP, transurethral prostate resection for benign prostatic hypertrophy</td>\n",
       "    </tr>\n",
       "    <tr>\n",
       "      <th>7577</th>\n",
       "      <td>2899929</td>\n",
       "      <td>11</td>\n",
       "      <td>admission diagnosis|Operative Organ Systems|Organ System|Genitourinary</td>\n",
       "      <td>Genitourinary</td>\n",
       "      <td>Genitourinary</td>\n",
       "    </tr>\n",
       "  </tbody>\n",
       "</table>\n",
       "<p>7578 rows × 5 columns</p>\n",
       "</div>"
      ],
      "text/plain": [
       "      patientunitstayid  admitdxenteredoffset  \\\n",
       "0               2900423                   162   \n",
       "1               2900423                   162   \n",
       "2               2900423                   162   \n",
       "3               2902156                   944   \n",
       "4               2902156                   944   \n",
       "...                 ...                   ...   \n",
       "7573            2898513                    50   \n",
       "7574            2899929                    11   \n",
       "7575            2899929                    11   \n",
       "7576            2899929                    11   \n",
       "7577            2899929                    11   \n",
       "\n",
       "                                                                                                                                      admitdxpath  \\\n",
       "0                                                                     admission diagnosis|Non-operative Organ Systems|Organ System|Cardiovascular   \n",
       "1                                  admission diagnosis|Was the patient admitted from the O.R. or went to the O.R. within 4 hours of admission?|No   \n",
       "2                                                      admission diagnosis|All Diagnosis|Non-operative|Diagnosis|Cardiovascular|Sepsis, pulmonary   \n",
       "3                          admission diagnosis|All Diagnosis|Non-operative|Diagnosis|Cardiovascular|Rhythm disturbance (atrial, supraventricular)   \n",
       "4                                                                     admission diagnosis|Non-operative Organ Systems|Organ System|Cardiovascular   \n",
       "...                                                                                                                                           ...   \n",
       "7573                                           admission diagnosis|All Diagnosis|Non-operative|Diagnosis|Gastrointestinal|Encephalopathy, hepatic   \n",
       "7574                              admission diagnosis|Was the patient admitted from the O.R. or went to the O.R. within 4 hours of admission?|Yes   \n",
       "7575                                                                                                             admission diagnosis|Elective|Yes   \n",
       "7576  admission diagnosis|All Diagnosis|Operative|Diagnosis|Genitourinary|TURP, transurethral prostate resection for benign prostatic hypertrophy   \n",
       "7577                                                                       admission diagnosis|Operative Organ Systems|Organ System|Genitourinary   \n",
       "\n",
       "                                                                  admitdxname  \\\n",
       "0                                                              Cardiovascular   \n",
       "1                                                                          No   \n",
       "2                                                           Sepsis, pulmonary   \n",
       "3                               Rhythm disturbance (atrial, supraventricular)   \n",
       "4                                                              Cardiovascular   \n",
       "...                                                                       ...   \n",
       "7573                                                  Encephalopathy, hepatic   \n",
       "7574                                                                      Yes   \n",
       "7575                                                                      Yes   \n",
       "7576  TURP, transurethral prostate resection for benign prostatic hypertrophy   \n",
       "7577                                                            Genitourinary   \n",
       "\n",
       "                                                                  admitdxtext  \n",
       "0                                                              Cardiovascular  \n",
       "1                                                                          No  \n",
       "2                                                           Sepsis, pulmonary  \n",
       "3                               Rhythm disturbance (atrial, supraventricular)  \n",
       "4                                                              Cardiovascular  \n",
       "...                                                                       ...  \n",
       "7573                                                  Encephalopathy, hepatic  \n",
       "7574                                                                      Yes  \n",
       "7575                                                                      Yes  \n",
       "7576  TURP, transurethral prostate resection for benign prostatic hypertrophy  \n",
       "7577                                                            Genitourinary  \n",
       "\n",
       "[7578 rows x 5 columns]"
      ]
     },
     "execution_count": 152,
     "metadata": {},
     "output_type": "execute_result"
    }
   ],
   "source": [
    "# TODO: ? Posiblemente dropear en virtud de patient.apacheAdmissionDx\n",
    "\n",
    "dfs['admissionDx']"
   ]
  },
  {
   "cell_type": "code",
   "execution_count": 153,
   "id": "f5556897-5281-4e85-b754-b7d44f494efb",
   "metadata": {
    "tags": []
   },
   "outputs": [],
   "source": [
    "# Drop columns\n",
    "dfs['admissionDx'] = dfs['admissionDx'].drop(columns=[\n",
    "    'admitdxtext', # En la gran mayoría de los casos es igual a admitdxname\n",
    "], axis=1)"
   ]
  },
  {
   "cell_type": "code",
   "execution_count": 154,
   "id": "5588a098-90d0-46fe-9742-64c225a56729",
   "metadata": {
    "tags": []
   },
   "outputs": [],
   "source": [
    "#\n",
    "# Nota: Es una mierda porque tiene mucho más sentido con onehot, pero hay un huevo de diagnósticos y como 10~20 notas adicionales\n",
    "# TODO: diag1 = 4 ??\n",
    "#\n",
    "\n",
    "# admitdxpath - admitdxname: Cada patientunistayid tiene n filas relacionadas con todos las diagnosis encontradas.\n",
    "def parse_admitdx(group):\n",
    "    pusID, group_df = group\n",
    "    diagnosis = []\n",
    "    additionalinfo = []\n",
    "    \n",
    "    for i, row in group_df.iterrows():\n",
    "        if row['admitdxname'] in ('No', 'Yes'):\n",
    "            path_parts = row['admitdxpath'].split('|')\n",
    "            mode = path_parts[-2]\n",
    "            \n",
    "            additionalinfo.append(mode + ' ' + row['admitdxname'])\n",
    "        else:\n",
    "            diagnosis.append(row['admitdxname'])\n",
    "            \n",
    "    # Rellenar 3 huecos en diagnosis y 2 en additionalinfo\n",
    "    diagnosis = (sorted(diagnosis) + ['No' for _ in range(3)])[:3]\n",
    "    additionalinfo = (sorted(additionalinfo) + ['No' for _ in range(3)])[:3]\n",
    "    \n",
    "    return [pusID] + diagnosis + additionalinfo\n",
    "\n",
    "new_df = pd.DataFrame(columns=['patientunitstayid', 'diag1', 'diag2', 'diag3', 'additional1', 'additional2', 'additional3'])\n",
    "for i,  group in enumerate(dfs['admissionDx'].groupby('patientunitstayid')):\n",
    "    row = parse_admitdx(group)\n",
    "    new_df.loc[i] = row\n",
    "\n",
    "#new_df"
   ]
  },
  {
   "cell_type": "markdown",
   "id": "11e2262e-50cd-4a25-af2d-b370e5e86fa6",
   "metadata": {
    "tags": []
   },
   "source": [
    "<center><h2><b>allergy</b></h2></center>"
   ]
  },
  {
   "cell_type": "code",
   "execution_count": 155,
   "id": "3502fa54-d9d9-4543-823a-5dd827a60166",
   "metadata": {
    "tags": []
   },
   "outputs": [
    {
     "data": {
      "text/plain": [
       "False    1480\n",
       "True      995\n",
       "Name: drugname, dtype: int64"
      ]
     },
     "execution_count": 155,
     "metadata": {},
     "output_type": "execute_result"
    }
   ],
   "source": [
    "pd.set_option('display.max_rows', 400)\n",
    "pd.set_option('display.max_colwidth', None)\n",
    "#sql_query('SELECT * FROM allergy GROUP BY drugname, allergytype').head(400)\n",
    "\n",
    "dfs['allergy']['drugname'].isna().value_counts()"
   ]
  },
  {
   "cell_type": "code",
   "execution_count": 156,
   "id": "8ffca676-86e9-470f-ad2c-ac8d3e2d9458",
   "metadata": {},
   "outputs": [],
   "source": [
    "dfs['allergy'] = dfs['allergy'].drop(columns=[\n",
    "    'allergyoffset', # Preguntar\n",
    "    'specialtytype', # Poca varianza 2453 – 22\n",
    "    'drughiclseqno'\n",
    "], axis=1)"
   ]
  },
  {
   "cell_type": "markdown",
   "id": "ad8c6f87-6c37-4cea-8c3d-2298b57267ba",
   "metadata": {},
   "source": [
    "<center><h2><b>apacheapsvar</b></h2></center>"
   ]
  },
  {
   "cell_type": "code",
   "execution_count": 157,
   "id": "01b2aefc-41e9-4fe1-a39a-00d04707328f",
   "metadata": {},
   "outputs": [],
   "source": [
    "# ID ya dropeada"
   ]
  },
  {
   "cell_type": "markdown",
   "id": "238a0fc4-727f-4bf2-8376-26e7eaf3fdc4",
   "metadata": {},
   "source": [
    "<center><h2><b>apachepatientresult</b></h2></center>"
   ]
  },
  {
   "cell_type": "code",
   "execution_count": null,
   "id": "42e0fa0b-4534-4abf-8243-68a8e75e6712",
   "metadata": {},
   "outputs": [],
   "source": []
  },
  {
   "cell_type": "markdown",
   "id": "c6397fbf-63c2-4ccd-9492-53fda3edf3ea",
   "metadata": {},
   "source": [
    "<center><h2><b>Apachepredvar</b></h2></center>"
   ]
  },
  {
   "cell_type": "code",
   "execution_count": null,
   "id": "be5619ff-ddae-4825-8c82-1f8c9c3cd348",
   "metadata": {},
   "outputs": [],
   "source": []
  },
  {
   "cell_type": "markdown",
   "id": "2c237f81-698f-4d90-a88b-40e2f8a581fa",
   "metadata": {},
   "source": [
    "<center><h2><b>careplancareprovider</b></h2></center>"
   ]
  },
  {
   "cell_type": "code",
   "execution_count": null,
   "id": "ae87272e-e070-4070-ac34-7ac1bc29a9b4",
   "metadata": {},
   "outputs": [],
   "source": []
  },
  {
   "cell_type": "markdown",
   "id": "13e5bdc9-0156-4c2c-b7c3-9d513d32f213",
   "metadata": {},
   "source": [
    "<center><h2><b>Careplaneol</b></h2></center>"
   ]
  },
  {
   "cell_type": "code",
   "execution_count": null,
   "id": "a22538b7-7673-438f-bab3-84e33524f020",
   "metadata": {},
   "outputs": [],
   "source": []
  },
  {
   "cell_type": "markdown",
   "id": "2828a859-9c3a-4361-b3fe-6ec42c24a150",
   "metadata": {},
   "source": [
    "<center><h2><b>careplangeneral</b></h2></center>"
   ]
  },
  {
   "cell_type": "code",
   "execution_count": null,
   "id": "f994c40a-67ff-4c9f-975b-6ba0f3917afe",
   "metadata": {},
   "outputs": [],
   "source": []
  },
  {
   "cell_type": "markdown",
   "id": "6983db2b-2824-4c6e-8c6b-aaf77354e4f7",
   "metadata": {},
   "source": [
    "<center><h2><b>careplangoal</b></h2></center>"
   ]
  },
  {
   "cell_type": "code",
   "execution_count": null,
   "id": "b97650a3-375e-4943-b11f-dd81427aa8a5",
   "metadata": {},
   "outputs": [],
   "source": []
  },
  {
   "cell_type": "markdown",
   "id": "81e806bf-aa61-4920-b685-2c4601ea3843",
   "metadata": {},
   "source": [
    "<center><h2><b>careplaninfectiousdisease</b></h2></center>"
   ]
  },
  {
   "cell_type": "code",
   "execution_count": null,
   "id": "f0234e0a-889f-4c2e-8aa7-bde7f80894a0",
   "metadata": {},
   "outputs": [],
   "source": []
  },
  {
   "cell_type": "markdown",
   "id": "cde23cb2-150a-4fb5-94ff-855cfb83ae6f",
   "metadata": {},
   "source": [
    "<center><h2><b>customlab</b></h2></center>"
   ]
  },
  {
   "cell_type": "code",
   "execution_count": null,
   "id": "6c70dfc1-da16-48e4-bac9-102d3dc7f309",
   "metadata": {},
   "outputs": [],
   "source": []
  },
  {
   "cell_type": "markdown",
   "id": "05a2786e-e673-463d-8694-6d1ed827f269",
   "metadata": {},
   "source": [
    "<center><h2><b>diagnosis</b></h2></center>"
   ]
  },
  {
   "cell_type": "code",
   "execution_count": 158,
   "id": "cb3df86b-19cb-4d82-8c1c-f42de8e9c6d1",
   "metadata": {},
   "outputs": [],
   "source": [
    "# Redondear offset al múltiplo de 50 más cercano hacia abajo para eliminar duplicados\n",
    "# TODO: Hacer en todas las tablas\n",
    "#dfs['diagnosis']['diagnosisoffset'] = dfs['diagnosis'].apply(lambda row: (int(row['diagnosisoffset'])//50) * 50, axis=1)\n",
    "#dfs['diagnosis'] = dfs['diagnosis'].drop_duplicates()"
   ]
  },
  {
   "cell_type": "code",
   "execution_count": 159,
   "id": "e6a0eaac-c092-433d-8be9-6054f2388647",
   "metadata": {},
   "outputs": [
    {
     "ename": "ValueError",
     "evalue": "cannot set a row with mismatched columns",
     "output_type": "error",
     "traceback": [
      "\u001b[0;31m---------------------------------------------------------------------------\u001b[0m",
      "\u001b[0;31mValueError\u001b[0m                                Traceback (most recent call last)",
      "Cell \u001b[0;32mIn[159], line 25\u001b[0m\n\u001b[1;32m     23\u001b[0m \u001b[38;5;28;01mfor\u001b[39;00m i,  group \u001b[38;5;129;01min\u001b[39;00m \u001b[38;5;28menumerate\u001b[39m(dfs[\u001b[38;5;124m'\u001b[39m\u001b[38;5;124mdiagnosis\u001b[39m\u001b[38;5;124m'\u001b[39m]\u001b[38;5;241m.\u001b[39mgroupby(\u001b[38;5;124m'\u001b[39m\u001b[38;5;124mpatientunitstayid\u001b[39m\u001b[38;5;124m'\u001b[39m)):\n\u001b[1;32m     24\u001b[0m     row \u001b[38;5;241m=\u001b[39m clean_diagnosisstring(group)\n\u001b[0;32m---> 25\u001b[0m     \u001b[43mnew_df\u001b[49m\u001b[38;5;241;43m.\u001b[39;49m\u001b[43mloc\u001b[49m\u001b[43m[\u001b[49m\u001b[43mi\u001b[49m\u001b[43m]\u001b[49m \u001b[38;5;241m=\u001b[39m row\n\u001b[1;32m     27\u001b[0m dfs[\u001b[38;5;124m'\u001b[39m\u001b[38;5;124mdiagnosis\u001b[39m\u001b[38;5;124m'\u001b[39m] \u001b[38;5;241m=\u001b[39m new_df\n",
      "File \u001b[0;32m~/.config/jupyterlab-desktop/jlab_server/lib/python3.8/site-packages/pandas/core/indexing.py:818\u001b[0m, in \u001b[0;36m_LocationIndexer.__setitem__\u001b[0;34m(self, key, value)\u001b[0m\n\u001b[1;32m    815\u001b[0m \u001b[38;5;28mself\u001b[39m\u001b[38;5;241m.\u001b[39m_has_valid_setitem_indexer(key)\n\u001b[1;32m    817\u001b[0m iloc \u001b[38;5;241m=\u001b[39m \u001b[38;5;28mself\u001b[39m \u001b[38;5;28;01mif\u001b[39;00m \u001b[38;5;28mself\u001b[39m\u001b[38;5;241m.\u001b[39mname \u001b[38;5;241m==\u001b[39m \u001b[38;5;124m\"\u001b[39m\u001b[38;5;124miloc\u001b[39m\u001b[38;5;124m\"\u001b[39m \u001b[38;5;28;01melse\u001b[39;00m \u001b[38;5;28mself\u001b[39m\u001b[38;5;241m.\u001b[39mobj\u001b[38;5;241m.\u001b[39miloc\n\u001b[0;32m--> 818\u001b[0m \u001b[43miloc\u001b[49m\u001b[38;5;241;43m.\u001b[39;49m\u001b[43m_setitem_with_indexer\u001b[49m\u001b[43m(\u001b[49m\u001b[43mindexer\u001b[49m\u001b[43m,\u001b[49m\u001b[43m \u001b[49m\u001b[43mvalue\u001b[49m\u001b[43m,\u001b[49m\u001b[43m \u001b[49m\u001b[38;5;28;43mself\u001b[39;49m\u001b[38;5;241;43m.\u001b[39;49m\u001b[43mname\u001b[49m\u001b[43m)\u001b[49m\n",
      "File \u001b[0;32m~/.config/jupyterlab-desktop/jlab_server/lib/python3.8/site-packages/pandas/core/indexing.py:1785\u001b[0m, in \u001b[0;36m_iLocIndexer._setitem_with_indexer\u001b[0;34m(self, indexer, value, name)\u001b[0m\n\u001b[1;32m   1782\u001b[0m     indexer, missing \u001b[38;5;241m=\u001b[39m convert_missing_indexer(indexer)\n\u001b[1;32m   1784\u001b[0m     \u001b[38;5;28;01mif\u001b[39;00m missing:\n\u001b[0;32m-> 1785\u001b[0m         \u001b[38;5;28;43mself\u001b[39;49m\u001b[38;5;241;43m.\u001b[39;49m\u001b[43m_setitem_with_indexer_missing\u001b[49m\u001b[43m(\u001b[49m\u001b[43mindexer\u001b[49m\u001b[43m,\u001b[49m\u001b[43m \u001b[49m\u001b[43mvalue\u001b[49m\u001b[43m)\u001b[49m\n\u001b[1;32m   1786\u001b[0m         \u001b[38;5;28;01mreturn\u001b[39;00m\n\u001b[1;32m   1788\u001b[0m \u001b[38;5;28;01mif\u001b[39;00m name \u001b[38;5;241m==\u001b[39m \u001b[38;5;124m\"\u001b[39m\u001b[38;5;124mloc\u001b[39m\u001b[38;5;124m\"\u001b[39m:\n\u001b[1;32m   1789\u001b[0m     \u001b[38;5;66;03m# must come after setting of missing\u001b[39;00m\n",
      "File \u001b[0;32m~/.config/jupyterlab-desktop/jlab_server/lib/python3.8/site-packages/pandas/core/indexing.py:2160\u001b[0m, in \u001b[0;36m_iLocIndexer._setitem_with_indexer_missing\u001b[0;34m(self, indexer, value)\u001b[0m\n\u001b[1;32m   2157\u001b[0m     \u001b[38;5;28;01mif\u001b[39;00m is_list_like_indexer(value):\n\u001b[1;32m   2158\u001b[0m         \u001b[38;5;66;03m# must have conforming columns\u001b[39;00m\n\u001b[1;32m   2159\u001b[0m         \u001b[38;5;28;01mif\u001b[39;00m \u001b[38;5;28mlen\u001b[39m(value) \u001b[38;5;241m!=\u001b[39m \u001b[38;5;28mlen\u001b[39m(\u001b[38;5;28mself\u001b[39m\u001b[38;5;241m.\u001b[39mobj\u001b[38;5;241m.\u001b[39mcolumns):\n\u001b[0;32m-> 2160\u001b[0m             \u001b[38;5;28;01mraise\u001b[39;00m \u001b[38;5;167;01mValueError\u001b[39;00m(\u001b[38;5;124m\"\u001b[39m\u001b[38;5;124mcannot set a row with mismatched columns\u001b[39m\u001b[38;5;124m\"\u001b[39m)\n\u001b[1;32m   2162\u001b[0m     value \u001b[38;5;241m=\u001b[39m Series(value, index\u001b[38;5;241m=\u001b[39m\u001b[38;5;28mself\u001b[39m\u001b[38;5;241m.\u001b[39mobj\u001b[38;5;241m.\u001b[39mcolumns, name\u001b[38;5;241m=\u001b[39mindexer)\n\u001b[1;32m   2164\u001b[0m \u001b[38;5;28;01mif\u001b[39;00m \u001b[38;5;129;01mnot\u001b[39;00m \u001b[38;5;28mlen\u001b[39m(\u001b[38;5;28mself\u001b[39m\u001b[38;5;241m.\u001b[39mobj):\n\u001b[1;32m   2165\u001b[0m     \u001b[38;5;66;03m# We will ignore the existing dtypes instead of using\u001b[39;00m\n\u001b[1;32m   2166\u001b[0m     \u001b[38;5;66;03m#  internals.concat logic\u001b[39;00m\n",
      "\u001b[0;31mValueError\u001b[0m: cannot set a row with mismatched columns"
     ]
    }
   ],
   "source": [
    "# MANTENER 3 DIAGNOSIS MÁS IMPORTANTES POR SECUENCIA Y PRIORIDAD\n",
    "new_df = pd.DataFrame(columns=['patientunitstayid', 'diag1', 'diag2', 'diag3', 'additional1', 'additional2', 'additional3'])\n",
    "\n",
    "def clean_diagnosisstring(group):\n",
    "    pusID, group_df = group\n",
    "    priority = {\n",
    "        'Primary': [],\n",
    "        'Major':  [],\n",
    "        'Other': []\n",
    "    }\n",
    "    \n",
    "    # Obtener las diagnossis de un paciente\n",
    "    for i, row in group_df.iterrows():\n",
    "        if row['diagnosisstring'] == row['diagnosisstring'] and row['diagnosispriority'] == row['diagnosispriority']: # not NaN\n",
    "            diag = row['diagnosisstring'].split('|')[-1]\n",
    "            priority_lv = row['diagnosispriority']\n",
    "            \n",
    "            priority[priority_lv].append(diag)\n",
    "    \n",
    "    return [pusID] + (priority['Primary'] + priority['Major'] + priority['Other'] + ['None', 'None', 'None'])[3:]\n",
    "\n",
    "new_df = pd.DataFrame(columns=['patientunitstayid', 'last1', 'last2', 'last3'])\n",
    "for i,  group in enumerate(dfs['diagnosis'].groupby('patientunitstayid')):\n",
    "    row = clean_diagnosisstring(group)\n",
    "    new_df.loc[i] = row\n",
    "\n",
    "dfs['diagnosis'] = new_df"
   ]
  },
  {
   "cell_type": "markdown",
   "id": "0f1ee099-863b-4113-87b4-f3e8c42279b9",
   "metadata": {},
   "source": [
    "<center><h2><b>hospital</b></h2></center>"
   ]
  },
  {
   "cell_type": "code",
   "execution_count": null,
   "id": "90cac4ab-991e-49c7-98b1-3e84d64b8102",
   "metadata": {},
   "outputs": [],
   "source": []
  },
  {
   "cell_type": "markdown",
   "id": "41c0f8fa-4268-4f3c-8a0f-870dc9ad8281",
   "metadata": {},
   "source": [
    "<center><h2><b>Infusiondrug</b></h2></center>"
   ]
  },
  {
   "cell_type": "code",
   "execution_count": null,
   "id": "567cdf2c-4ac9-4170-a432-16e642a314ee",
   "metadata": {},
   "outputs": [],
   "source": []
  },
  {
   "cell_type": "markdown",
   "id": "6722b01a-33bf-4dd3-9a57-8fac9484f1b5",
   "metadata": {},
   "source": [
    "<center><h2><b>intakeoutput</b></h2></center>"
   ]
  },
  {
   "cell_type": "code",
   "execution_count": null,
   "id": "a743872f-2535-4cf9-8e9d-fc77412b9b4e",
   "metadata": {
    "tags": []
   },
   "outputs": [],
   "source": [
    "dfs['intakeOutput'] = dfs['intakeOutput'].drop(columns=[\n",
    "    'intaketotal', # Computada en otra variable\n",
    "    'outputtotal', # Computada en otra variable\n",
    "    'cellpath', # Redundante en celltext\n",
    "    'cellvaluetext' # dependiente de cellvaluenumeric\n",
    "], axis=1)"
   ]
  },
  {
   "cell_type": "code",
   "execution_count": null,
   "id": "5175e81a-7555-4d05-ac8a-c0da08bf899f",
   "metadata": {
    "tags": []
   },
   "outputs": [],
   "source": [
    "#dfs['intakeOutput']"
   ]
  },
  {
   "cell_type": "markdown",
   "id": "c5d738c9-12a9-49f0-b78f-f9cca26995b2",
   "metadata": {},
   "source": [
    "<center><h2><b>lab</b></h2></center>"
   ]
  },
  {
   "cell_type": "code",
   "execution_count": null,
   "id": "7df71d78-c264-4002-89f4-5de96702d671",
   "metadata": {
    "tags": []
   },
   "outputs": [],
   "source": [
    "# TODO: Mirar relación entre labmeasurenamesystem y labmeasurenameinterface\n",
    "\n",
    "dfs['lab'] = dfs['lab'].drop(columns=[\n",
    "    'labtypeid', # Irrelevante\n",
    "    'labname', # Irrelevante\n",
    "    'labresulttext', # Redundante con labResult\n",
    "    'labresultrevisedoffset' # Reundante con labresultoffset\n",
    "], axis=1)"
   ]
  },
  {
   "cell_type": "code",
   "execution_count": null,
   "id": "1269b753-18f6-4c72-ad1d-f7234ec6cc38",
   "metadata": {
    "tags": []
   },
   "outputs": [],
   "source": [
    "#dfs['lab'] "
   ]
  },
  {
   "cell_type": "markdown",
   "id": "7b5b6489-7901-45f7-a99b-dcdb5fb95a45",
   "metadata": {},
   "source": [
    "<center><h2><b>medication</b></h2></center>"
   ]
  },
  {
   "cell_type": "code",
   "execution_count": null,
   "id": "b21ac0e4-9071-4f24-a0b3-cbf7e9abd719",
   "metadata": {
    "tags": []
   },
   "outputs": [],
   "source": [
    "#dfs['medication']"
   ]
  },
  {
   "cell_type": "code",
   "execution_count": null,
   "id": "a11ea221-56a4-4854-8830-90e138e97a85",
   "metadata": {
    "tags": []
   },
   "outputs": [],
   "source": [
    "# TODO: Parsear dosage con drugname\n",
    "\n",
    "dfs['medication'] = dfs['medication'].drop(columns=[\n",
    "    'drugorderoffset', # Irrelevante\n",
    "    'drugivadmixture', # No parece relevante\n",
    "    'drugordercancelled', # Irrelevante\n",
    "    'drugname', # Muy incompleta y redundante con drughiclseqno\n",
    "    'loadingdose', # Mucho NULL\n",
    "    'prn', # ? Redundante con frequency\n",
    "    'gtc' # ? No parece que tenga relevancia\n",
    "], axis=1)"
   ]
  },
  {
   "cell_type": "markdown",
   "id": "294e17b2-134e-4a0a-995c-4a4ab9c01c13",
   "metadata": {},
   "source": [
    "<center><h2><b>microLab</b></h2></center>"
   ]
  },
  {
   "cell_type": "code",
   "execution_count": null,
   "id": "76841056-f5ed-4e3e-a937-0c0df5302047",
   "metadata": {
    "tags": []
   },
   "outputs": [],
   "source": [
    "# TODO ?"
   ]
  },
  {
   "cell_type": "markdown",
   "id": "da0d76f1-a410-4850-85b5-7c406b8e995a",
   "metadata": {
    "tags": []
   },
   "source": [
    "<center><h2><b>note</b></h2></center>"
   ]
  },
  {
   "cell_type": "code",
   "execution_count": null,
   "id": "8c8493b4-293a-429a-9324-8d27bc3e3577",
   "metadata": {},
   "outputs": [],
   "source": [
    "dfs['note'] = dfs['note'].drop(columns=[\n",
    "    'noteenteredoffset', # Irrelevante\n",
    "    'notetype', # No parece relevante\n",
    "    'notevalue', # Parece tener información sobre notetext\n",
    "], axis=1)"
   ]
  },
  {
   "cell_type": "markdown",
   "id": "c3e4116b-f2ba-45b5-a75d-438449bfda1a",
   "metadata": {
    "tags": []
   },
   "source": [
    "<center><h2><b>nurseAssessment</b></h2></center>"
   ]
  },
  {
   "cell_type": "code",
   "execution_count": null,
   "id": "4afd00c9-c7c7-4f50-8345-4ce43827de83",
   "metadata": {
    "tags": []
   },
   "outputs": [],
   "source": [
    "# TODO: ? Parece que hay múltiples assessments de diferentes enfermeras al mismo tiempo con diagnósticos diferentes.\n",
    "# TODO: Unir celllabel\tcellattribute\tcellattributevalue\n",
    "# TODO: Hacer algo con cellattributepath\n",
    "\n",
    "dfs['nurseAssessment'] = dfs['nurseAssessment'].drop(columns=[\n",
    "    'nurseassessentryoffset', # Irrelevante\n",
    "], axis=1)"
   ]
  },
  {
   "cell_type": "markdown",
   "id": "9be0b5ce-e2cd-4ee7-8e18-e3a02503e35d",
   "metadata": {
    "tags": []
   },
   "source": [
    "<center><h2><b>nurseCare</b></h2></center>"
   ]
  },
  {
   "cell_type": "code",
   "execution_count": null,
   "id": "030bcd3b-213f-4984-8be8-b3925c290684",
   "metadata": {},
   "outputs": [],
   "source": [
    "dfs['nurseCare'] = dfs['nurseCare'].drop(columns=[\n",
    "    'nursecareentryoffset', # Irrelevante\n",
    "    'celllabel' # cellattribute es más detallada\n",
    "], axis=1)"
   ]
  },
  {
   "cell_type": "markdown",
   "id": "85e6e75c-9403-440e-aeae-f44fcea2348f",
   "metadata": {},
   "source": [
    "<center><h2><b>nurseCharting</b></h2></center>"
   ]
  },
  {
   "cell_type": "code",
   "execution_count": null,
   "id": "0ca72fa9-cfca-4aa0-be88-acf0ce360650",
   "metadata": {},
   "outputs": [],
   "source": [
    "# Hacer algo con esta mierda\n",
    "\n",
    "dfs['nurseCharting'] = dfs['nurseCharting'].drop(columns=[\n",
    "    'nursingchartentryoffset' # Irrelevante\n",
    "], axis=1)"
   ]
  },
  {
   "cell_type": "markdown",
   "id": "27d01d8b-46c9-4553-ab72-4841d5699d17",
   "metadata": {},
   "source": [
    "<center><h2><b>pastHistory</b></h2></center>"
   ]
  },
  {
   "cell_type": "code",
   "execution_count": null,
   "id": "10558dbd-b304-4598-aa91-85e815b35a65",
   "metadata": {},
   "outputs": [],
   "source": [
    "dfs['pastHistory'] = dfs['pastHistory'].drop(columns=[\n",
    "    'pasthistoryenteredoffset', # Irrelevante\n",
    "    'pasthistoryvaluetext' # Igual que pasthistoryvalue\n",
    "], axis=1)"
   ]
  },
  {
   "cell_type": "markdown",
   "id": "5a69e008-b82c-40e4-971b-86e59583a8b7",
   "metadata": {},
   "source": [
    "<center><h2><b>patient</b></h2></center>"
   ]
  },
  {
   "cell_type": "code",
   "execution_count": null,
   "id": "28f4e901-0541-4e80-abce-31f10b193887",
   "metadata": {},
   "outputs": [],
   "source": [
    "#dfs['patient']"
   ]
  },
  {
   "cell_type": "code",
   "execution_count": null,
   "id": "5fa9cb86-dcfb-4037-869d-f66ac4bc463a",
   "metadata": {},
   "outputs": [],
   "source": [
    "import math\n",
    "\n",
    "def clean_age(row):\n",
    "    age = row['age']\n",
    "    \n",
    "    if age == '':\n",
    "        return 50 # TODO: Median\n",
    "    elif age == '> 89':\n",
    "        return 100\n",
    "    elif math.isnan(float(age)):\n",
    "        return 50 # \"\"\n",
    "    else:\n",
    "        return int(age)"
   ]
  },
  {
   "cell_type": "code",
   "execution_count": null,
   "id": "0ca67ce3-d6a8-44c0-9b73-a388834025c7",
   "metadata": {},
   "outputs": [],
   "source": [
    "#Sepsis, pulmonary              -> 121                                                                                                                                                                    121\n",
    "#Diabetic ketoacidosis          -> 105                                                                                                                                                                 105\n",
    "#CHF, congestive heart failure  -> 102   \n",
    "\n",
    "def randomApache():\n",
    "    num = random.randint(1, 3)\n",
    "    \n",
    "    if(num == 1): \n",
    "        return 'CHF, congestive heart failure'\n",
    "    \n",
    "    elif (num == 2): \n",
    "        return 'Diabetic ketoacidosis'\n",
    "    \n",
    "    else: return 'Sepsis, pulmonary'\n",
    "     \n",
    "def clean_apacheadmissiondx(row):\n",
    "    apache = row['apacheadmissiondx']\n",
    "    \n",
    "    if apache != apache:\n",
    "        return randomApache() # \"\"\n",
    "    else:\n",
    "        return apache"
   ]
  },
  {
   "cell_type": "code",
   "execution_count": null,
   "id": "6a3e313e-4f11-410d-bc51-615d6b68d461",
   "metadata": {},
   "outputs": [],
   "source": [
    "# 177.80    151\n",
    "# 172.70    146\n",
    "# 167.60    133\n",
    "# 165.10    127\n",
    "                                                                                                                                                    \n",
    "def randomAdmissionheight():\n",
    "    num = random.randint(1, 4)\n",
    "    \n",
    "    if(num == 1): \n",
    "        return 177.80\n",
    "    \n",
    "    elif (num == 2): \n",
    "        return 172.70\n",
    "    \n",
    "    elif (num == 3): \n",
    "        return 167.60\n",
    "    \n",
    "    else: return 165.10\n",
    "     \n",
    "def clean_admissionheight(row):\n",
    "    admissionheight = row['admissionheight']\n",
    "    \n",
    "    if math.isnan(float(admissionheight)):\n",
    "        return randomAdmissionheight() # \"\"\n",
    "    else:\n",
    "        return admissionheight"
   ]
  },
  {
   "cell_type": "code",
   "execution_count": null,
   "id": "57b1a3ae-32d5-4b19-9589-d78d10d235f7",
   "metadata": {},
   "outputs": [],
   "source": [
    "# Random\n",
    "def clean_gender(row):\n",
    "    gender = row['gender']\n",
    "    \n",
    "    if gender != gender:\n",
    "        if random.randint(1, 2) % 2 == 0: return 'Male'\n",
    "        else: return 'Famale'\n",
    "    else:\n",
    "        return gender"
   ]
  },
  {
   "cell_type": "code",
   "execution_count": null,
   "id": "3789afb1-f9ab-4a2b-a040-e5a47c3a2319",
   "metadata": {},
   "outputs": [],
   "source": [
    "# Caucasian\n",
    "def clean_ethnicity(row):\n",
    "    ethnicity = row['ethnicity']\n",
    "    \n",
    "    if ethnicity != ethnicity:\n",
    "        return 'Caucasian'\n",
    "    else:\n",
    "        return ethnicity"
   ]
  },
  {
   "cell_type": "code",
   "execution_count": null,
   "id": "cfe14c46-1f45-4a44-92a6-8f717de668e2",
   "metadata": {},
   "outputs": [],
   "source": [
    "# Emergency Department\n",
    "def clean_hospitaladmitsource(row):\n",
    "    hospitalAdmit = row['hospitaladmitsource']\n",
    "    \n",
    "    if hospitalAdmit != hospitalAdmit:\n",
    "        return 'Emergency Department' # \"\"\n",
    "    else:\n",
    "        return hospitalAdmit\n"
   ]
  },
  {
   "cell_type": "code",
   "execution_count": null,
   "id": "1ea1aa73-68ca-4829-b9e9-7e690d05e65b",
   "metadata": {},
   "outputs": [],
   "source": [
    "def clean_admissionweight(row, df):\n",
    "    admissionweight = row['admissionweight']\n",
    "    \n",
    "    if math.isnan(float(admissionweight)):\n",
    "        return  df[df['age']==row['age']]['admissionweight'].median()\n",
    "    else:\n",
    "        return admissionweight    "
   ]
  },
  {
   "cell_type": "code",
   "execution_count": null,
   "id": "6dd5988e-9c84-4c31-861b-224dacf4dfcb",
   "metadata": {},
   "outputs": [],
   "source": [
    "# TODO: Feature idea - BMI\n",
    "# TODO: ? Cual es más importante, unitDischargeOffset u hospitalDischargeOffset  \n",
    "\n",
    "# Drop\n",
    "dfs['patient'] = dfs['patient'].drop(columns=[\n",
    "    'wardid', # ? Tiene pinta de que no va a ser muy importante\n",
    "    'patienthealthsystemstayid', # Irrelevante\n",
    "    'hospitaldischargeyear', # Irrelevante. Solo hay datos de los años 2014 y 2015\n",
    "    'hospitaladmittime24', # Drop a priori. No parece importante\n",
    "    'hospitaldischargetime24', # Drop a priori. No parece importante\n",
    "    'hospitaldischargelocation', # No parece muy relevante\n",
    "    'unittype', # Parece que ya está presente en otras partes\n",
    "    'unitadmittime24', # No parece muy relevante\n",
    "    'unitadmitsource', # ?\n",
    "    'unitstaytype', # No parece muy relevante\n",
    "    'dischargeweight', # No parece que sea muy relevante el peso cuando esté muerto\n",
    "    'unitdischargetime24', # Irrelevante\n",
    "    'unitdischargelocation', # Irrelevante\n",
    "    'hospitaldischargestatus', # Irrelevante\n",
    "    'unitdischargestatus',\n",
    "    'uniquepid'\n",
    "], axis=1)\n",
    "\n",
    "# Eliminar NaN TODO\n",
    "#dfs['patient'] = dfs['patient'].dropna()\n",
    "\n",
    "# Age\n",
    "dfs['patient']['age']                 = dfs['patient'].apply(clean_age, axis=1)\n",
    "\n",
    "# Apacheadmissiondx\n",
    "dfs['patient']['apacheadmissiondx']   = dfs['patient'].apply(clean_apacheadmissiondx, axis=1)\n",
    "\n",
    "# Hospitaladmitsource\n",
    "dfs['patient']['hospitaladmitsource'] = dfs['patient'].apply(clean_hospitaladmitsource, axis=1)\n",
    "\n",
    "# Gender\n",
    "dfs['patient']['gender']              = dfs['patient'].apply(clean_gender, axis=1)\n",
    "\n",
    "# ethnicity\n",
    "dfs['patient']['ethnicity']           = dfs['patient'].apply(clean_ethnicity, axis=1)\n",
    "\n",
    "# admissionheight\n",
    "dfs['patient']['admissionheight']     = dfs['patient'].apply(clean_admissionheight, axis=1)\n",
    "\n",
    "# admissionweight -> OUTLAYERS TODO:\n",
    "dfs['patient']['admissionweight']     = dfs['patient'].apply(lambda row : clean_admissionweight(row, dfs['patient']), axis=1)"
   ]
  },
  {
   "cell_type": "code",
   "execution_count": null,
   "id": "61e5294d-6301-4f41-9cf5-1664c7fc384b",
   "metadata": {},
   "outputs": [],
   "source": [
    "import sqlite3\n",
    "import random\n",
    "\n",
    "# Emergency Department\n",
    "# print (dfs['patient']['hospitaladmitsource'].value_counts())\n",
    "\n",
    "print (dfs['patient']['admissionweight'].value_counts())"
   ]
  },
  {
   "cell_type": "markdown",
   "id": "114c203e-f148-4570-8b8e-87eef9e885cf",
   "metadata": {},
   "source": [
    "<center><h2><b>physicalExam</b></h2></center>"
   ]
  },
  {
   "cell_type": "code",
   "execution_count": null,
   "id": "4e71cade-105b-42bd-812c-5c4f5411b6e5",
   "metadata": {},
   "outputs": [],
   "source": [
    "# TODO: Darle una limpieza fuerte\n",
    "\n",
    "dfs['physicalExam'] = dfs['physicalExam'].drop(columns=[\n",
    "    'physicalexamoffset', # Irrelevante\n",
    "], axis=1)"
   ]
  },
  {
   "cell_type": "markdown",
   "id": "1d4385e3-f224-4e1a-aaf5-a9ef3944a4fa",
   "metadata": {
    "tags": []
   },
   "source": [
    "<center><h2><b>respiratoryCare</b></h2></center>"
   ]
  },
  {
   "cell_type": "code",
   "execution_count": null,
   "id": "d4d2016e-20e0-4e9b-958f-7b765424942e",
   "metadata": {},
   "outputs": [],
   "source": [
    "dfs['respiratoryCare'] = dfs['respiratoryCare'].drop(columns=[\n",
    "    'airwaysize', 'airwayposition', 'cuffpressure', 'apneaparams', 'lowexhmvlimit', 'hiexhmvlimit', 'lowexhtvlimit', 'hipeakpreslimit', 'lowpeakpreslimit',\n",
    "    'hirespratelimit', 'lowrespratelimit', 'sighpreslimit', 'lowironoxlimit', 'highironoxlimit', 'meanairwaypreslimit', 'peeplimit', 'cpaplimit',\n",
    "    'setapneainterval', 'setapneatv', 'setapneaippeephigh', 'setapnearr', 'setapneapeakflow', 'setapneainsptime', 'setapneaie', 'setapneafio2'\n",
    "], axis=1)"
   ]
  },
  {
   "cell_type": "markdown",
   "id": "cf4b6230-117a-47ef-9dc1-1a62a97bfe02",
   "metadata": {},
   "source": [
    "<center><h2><b>respiratoryCharting</b></h2></center>"
   ]
  },
  {
   "cell_type": "code",
   "execution_count": null,
   "id": "b82ff519-59e5-4aab-80ee-a8e683d2a1a2",
   "metadata": {},
   "outputs": [],
   "source": [
    "# TODO: ?\n",
    "\n",
    "dfs['respiratoryCharting'] = dfs['respiratoryCharting'].drop(columns=[\n",
    "    'respchartentryoffset' # Irrelevante\n",
    "], axis=1)"
   ]
  },
  {
   "cell_type": "markdown",
   "id": "8b5c22f4-4bb5-41d4-80ce-c158e87ecfe2",
   "metadata": {},
   "source": [
    "<center><h2><b>treatment</b></h2></center>"
   ]
  },
  {
   "cell_type": "code",
   "execution_count": null,
   "id": "bbe665df-fc57-4544-b3df-7cde4915448e",
   "metadata": {},
   "outputs": [],
   "source": [
    "# TODO: ?\n",
    "\n",
    "dfs['treatment'] = dfs['treatment'].drop(columns=[\n",
    "    'activeupondischarge', # Irrelevante    \n",
    "], axis=1)"
   ]
  },
  {
   "cell_type": "markdown",
   "id": "1ebf475b-3d2c-406d-8d4e-893dd50427db",
   "metadata": {
    "tags": []
   },
   "source": [
    "<center><h2><b>vitalAperiodic</b></h2></center>"
   ]
  },
  {
   "cell_type": "code",
   "execution_count": null,
   "id": "af8f0c96-f2fa-46b1-a2a3-63d5022456a4",
   "metadata": {},
   "outputs": [],
   "source": [
    "# TODO\n",
    "\n",
    "dfs['vitalAperiodic'] = dfs['vitalAperiodic'].drop(columns=[\n",
    "], axis=1)"
   ]
  },
  {
   "cell_type": "markdown",
   "id": "64c33848-7cb4-499f-8309-1ecfd9cdc49d",
   "metadata": {
    "tags": []
   },
   "source": [
    "<center><h2><b>vitalPeriodic</b></h2></center>"
   ]
  },
  {
   "cell_type": "code",
   "execution_count": null,
   "id": "966028d7-986c-47a4-b3f5-13adfe9f0e2a",
   "metadata": {},
   "outputs": [],
   "source": [
    "# TODO\n",
    "\n",
    "dfs['vitalPeriodic'] = dfs['vitalPeriodic'].drop(columns=[\n",
    "], axis=1)"
   ]
  },
  {
   "cell_type": "markdown",
   "id": "8be9fcf3-ef85-4ac4-ac9b-7cf7151b56b8",
   "metadata": {},
   "source": [
    "---\n",
    "\n",
    "<center><h2><b>Exportar a CSV</b></h2></center>"
   ]
  },
  {
   "cell_type": "code",
   "execution_count": null,
   "id": "0f67cecc-893f-46c6-b021-980a9e56da95",
   "metadata": {
    "tags": []
   },
   "outputs": [],
   "source": [
    "#for df_name in dfs:\n",
    "#    dfs[df_name].to_csv('../db/csv_clean/' + df_name + '.csv', index=False)"
   ]
  },
  {
   "cell_type": "markdown",
   "id": "5ae904d6-8666-4430-84ca-7d538ac90bcb",
   "metadata": {},
   "source": [
    "---\n",
    "\n",
    "<center><h2><b>Exportar a SQL</b></h2></center>"
   ]
  },
  {
   "cell_type": "code",
   "execution_count": null,
   "id": "4dcc64ae-ba50-4be4-9347-f953c9d8ae23",
   "metadata": {
    "tags": []
   },
   "outputs": [],
   "source": [
    "import os\n",
    "\n",
    "sqlite_path = \"../db/sqlite/eicu_v2_0_1_clean.sqlite3\"\n",
    "os.remove(sqlite_path)\n",
    "conn = db.connect(sqlite_path)\n",
    "\n",
    "for df_name in dfs:\n",
    "    dfs[df_name].to_sql(df_name, conn, index=False)"
   ]
  }
 ],
 "metadata": {
  "kernelspec": {
   "display_name": "Python 3 (ipykernel)",
   "language": "python",
   "name": "python3"
  },
  "language_info": {
   "codemirror_mode": {
    "name": "ipython",
    "version": 3
   },
   "file_extension": ".py",
   "mimetype": "text/x-python",
   "name": "python",
   "nbconvert_exporter": "python",
   "pygments_lexer": "ipython3",
   "version": "3.8.16"
  }
 },
 "nbformat": 4,
 "nbformat_minor": 5
}
