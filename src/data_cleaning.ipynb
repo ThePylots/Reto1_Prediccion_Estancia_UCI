{
 "cells": [
  {
   "cell_type": "code",
   "execution_count": null,
   "id": "6d671a36-faac-4850-9497-d8051268e6df",
   "metadata": {},
   "outputs": [],
   "source": [
    "##########################################################################################\n",
    "#                            Stuff a tener en cuenta                                     #\n",
    "##########################################################################################\n",
    "# 1. Data profiling\n",
    "# 2. Visualizations para outliers\n",
    "# 3. Datos irrelevantes\n",
    "# 4. Eliminar duplicados\n",
    "# 5. Calcular varianza de columnas\n",
    "# 6. Usar random forest para calcular variables importantes\n",
    "# 7. Conversión de tipos (a tipos indicados en la documentación en principio)\n",
    "# 8. Dividir datos complejos\n",
    "# 9. Arreglar typos\n",
    "# 10. Feature engineering\n",
    "# 11. Estandarizar datos\n",
    "# 12. Eliminar columnas con muchos valores nulos o poca varianza\n",
    "# 12. Hacer algo con valores null, \"\" y NaN\n",
    "# 13. Si hay atributos derivados, comprobar que son correctos\n",
    "# 14. Hacer algo con datos inválidos de acuerdo a la documentación\n",
    "# 15. Darle una vuelta a si los datos tienen sentido\n",
    "# 16. Considerar si tiene sentido considerar datos externos (ej. riesgo de muerte dada una enfermedad)"
   ]
  },
  {
   "cell_type": "code",
   "execution_count": 1,
   "id": "637ff79e-3710-4089-bdd5-abc7ef787b98",
   "metadata": {
    "tags": []
   },
   "outputs": [],
   "source": [
    "import sqlite3 as db\n",
    "import pandas as pd\n",
    "import featuretools as ft\n",
    "import json"
   ]
  },
  {
   "cell_type": "code",
   "execution_count": 2,
   "id": "80ee0325-ac21-4730-9520-add196be17e4",
   "metadata": {
    "tags": []
   },
   "outputs": [],
   "source": [
    "def read_csvs():\n",
    "    datasets = [ 'admissiondrug', 'admissionDx', 'allergy', 'apacheApsVar', 'apachePatientResult', 'apachePredVar', 'carePlanCareProvider', 'carePlanEOL', 'carePlanGeneral',\n",
    "                 'carePlanGoal', 'carePlanInfectiousDisease', 'customLab', 'diagnosis', 'hospital', 'infusiondrug', 'intakeOutput', 'lab', 'medication', 'microLab', 'note',\n",
    "                 'nurseAssessment', 'nurseCare', 'nurseCharting', 'pastHistory', 'patient', 'physicalExam', 'respiratoryCare', 'respiratoryCharting', 'treatment', 'vitalAperiodic',\n",
    "                 'vitalPeriodic']\n",
    "\n",
    "    dfs = {}\n",
    "\n",
    "    for ds_name in datasets:\n",
    "        dfs[ds_name] = pd.read_csv('../db/csv/' + ds_name + '.csv')\n",
    "    \n",
    "    return dfs"
   ]
  },
  {
   "cell_type": "code",
   "execution_count": 16,
   "id": "a8e2143a-8e3d-48e6-adb0-a7f968e03d15",
   "metadata": {
    "tags": []
   },
   "outputs": [
    {
     "name": "stderr",
     "output_type": "stream",
     "text": [
      "/tmp/ipykernel_15822/2131931280.py:10: DtypeWarning: Columns (11) have mixed types. Specify dtype option on import or set low_memory=False.\n",
      "  dfs[ds_name] = pd.read_csv('../db/csv/' + ds_name + '.csv')\n"
     ]
    }
   ],
   "source": [
    "dfs = read_csvs()"
   ]
  },
  {
   "cell_type": "code",
   "execution_count": null,
   "id": "74d10800-4177-4c01-a285-e162d18f021a",
   "metadata": {
    "tags": []
   },
   "outputs": [],
   "source": [
    "###########################################################################\n",
    "# Columnas con muchos null (comparativamente. hay otras con 36K y 3K null #\n",
    "###########################################################################\n",
    "\n",
    "# allergy (2474)\n",
    "# 9   drugname              1480 non-null   object \n",
    "# 12  drughiclseqno         1480 non-null   float64\n",
    "\n",
    "# apachePatientResult (3676)\n",
    "# 20  actualventdays                 1042 non-null   float64\n",
    "# 21  predventdays                   1004 non-null   float64\n",
    "# 22  unabridgedactualventdays       1042 non-null   float64\n",
    "\n",
    "# apachePredVar (2205)\n",
    "# 27  electivesurgery    342 non-null    float64\n",
    "\n",
    "# carePlanProvider (5627)\n",
    "# 3   providertype            0 non-null      float64\n",
    "\n",
    "# carePlanGoal (3633)\n",
    "# 4   cplgoalvalue         2128 non-null   object\n",
    "\n",
    "# carePlanInfectiousDisease (112)\n",
    "# 6   responsetotherapy        2 non-null      object\n",
    "# 7   treatment                62 non-null     object\n",
    "\n",
    "# customLab (30)\n",
    "# 5   labotherresult     18 non-null     float64\n",
    "\n",
    "# infusiondrug (38256)\n",
    "# 5   infusionrate       16779 non-null  float64\n",
    "# 6   drugamount         13813 non-null  float64\n",
    "# 7   volumeoffluid      14108 non-null  float64\n",
    "# 8   patientweight      4036 non-null   float64\n",
    "\n",
    "# medication (75604)\n",
    "# 11  loadingdose         8 non-null      object\n",
    "\n",
    "# microLab (342)\n",
    "# 5   antibiotic          139 non-null    object\n",
    "# 6   sensitivitylevel    136 non-null    object\n",
    "\n",
    "# respiratoryCare (5436)\n",
    "# 4   airwaytype            794 non-null    object \n",
    "# 5   airwaysize            636 non-null    float64\n",
    "# 6   airwayposition        965 non-null    object \n",
    "# 7   cuffpressure          103 non-null    float64\n",
    "# 12  apneaparams           111 non-null    object \n",
    "# 13  lowexhmvlimit         2050 non-null   float64\n",
    "# 14  hiexhmvlimit          542 non-null    float64\n",
    "# 15  lowexhtvlimit         551 non-null    float64\n",
    "# 16  hipeakpreslimit       452 non-null    float64\n",
    "# 17  lowpeakpreslimit      177 non-null    float64\n",
    "# 18  hirespratelimit       837 non-null    float64\n",
    "# 19  lowrespratelimit      286 non-null    float64\n",
    "# 20  sighpreslimit         0 non-null      float64\n",
    "# 21  lowironoxlimit        0 non-null      float64\n",
    "# 22  highironoxlimit       0 non-null      float64\n",
    "# 23  meanairwaypreslimit   0 non-null      float64\n",
    "# 24  peeplimit             200 non-null    float64\n",
    "# 25  cpaplimit             253 non-null    float64\n",
    "# 26  setapneainterval      255 non-null    float64\n",
    "# 27  setapneatv            222 non-null    float64\n",
    "# 28  setapneaippeephigh    23 non-null     float64\n",
    "# 29  setapnearr            245 non-null    float64\n",
    "# 30  setapneapeakflow      240 non-null    float64\n",
    "# 31  setapneainsptime      112 non-null    float64\n",
    "# 32  setapneaie            0 non-null      float64\n",
    "# 33  setapneafio2          247 non-null    float64\n",
    "\n",
    "# vitalAperiodic (274088)\n",
    "# 6   paop                  169 non-null     float64\n",
    "# 7   cardiacoutput         14235 non-null   float64\n",
    "# 8   cardiacinput          11865 non-null   float64\n",
    "# 9   svr                   17789 non-null   float64\n",
    "# 10  svri                  3440 non-null    float64\n",
    "# 11  pvr                   169 non-null     float64\n",
    "# 12  pvri                  168 non-null     float64\n",
    "\n",
    "# vitalPeriodic\n",
    "# 3   temperature        112820 non-null   float64\n",
    "# 6   respiration        1381351 non-null  float64\n",
    "# 7   cvp                202284 non-null   float64\n",
    "# 8   etco2              72780 non-null    float64\n",
    "# 9   systemicsystolic   226475 non-null   float64\n",
    "# 10  systemicdiastolic  226471 non-null   float64\n",
    "# 11  systemicmean       228400 non-null   float64\n",
    "# 12  pasystolic         32083 non-null    float64\n",
    "# 13  padiastolic        32080 non-null    float64\n",
    "# 14  pamean             32632 non-null    float64\n",
    "# 15  st1                613267 non-null   float64\n",
    "# 16  st2                656963 non-null   float64\n",
    "# 17  st3                596372 non-null   float64\n",
    "# 18  icp                13193 non-null    float64\n",
    "\n",
    "\n",
    "#--------------------------------------------------------------------------------------------------------------------------------------------------------\n",
    "\n",
    "#for df_name in dfs:\n",
    "#    print(df_name + '\\n')\n",
    "#    dfs[df_name].info()\n",
    "#    print()\n",
    "\n",
    "\n",
    "# admissionDrug\n",
    "#dfs['medication']['loadingdose'].value_counts()"
   ]
  },
  {
   "cell_type": "code",
   "execution_count": 55,
   "id": "2e1fd5c5-0b57-4eda-9216-18d16214f927",
   "metadata": {
    "tags": []
   },
   "outputs": [
    {
     "data": {
      "text/plain": [
       "0       True\n",
       "1       True\n",
       "2       True\n",
       "3       True\n",
       "4       True\n",
       "        ... \n",
       "5622    True\n",
       "5623    True\n",
       "5624    True\n",
       "5625    True\n",
       "5626    True\n",
       "Name: providertype, Length: 5627, dtype: bool"
      ]
     },
     "execution_count": 55,
     "metadata": {},
     "output_type": "execute_result"
    }
   ],
   "source": [
    "dfs['carePlanCareProvider']['providertype'].isna()"
   ]
  }
 ],
 "metadata": {
  "kernelspec": {
   "display_name": "Python 3 (ipykernel)",
   "language": "python",
   "name": "python3"
  },
  "language_info": {
   "codemirror_mode": {
    "name": "ipython",
    "version": 3
   },
   "file_extension": ".py",
   "mimetype": "text/x-python",
   "name": "python",
   "nbconvert_exporter": "python",
   "pygments_lexer": "ipython3",
   "version": "3.8.16"
  }
 },
 "nbformat": 4,
 "nbformat_minor": 5
}
